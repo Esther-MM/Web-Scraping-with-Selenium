{
 "cells": [
  {
   "cell_type": "code",
   "execution_count": 1,
   "id": "d7b38aa7",
   "metadata": {},
   "outputs": [],
   "source": [
    "#import the neccessary selenium libraries\n",
    "\n",
    "from selenium import webdriver\n",
    "from selenium.webdriver.common.keys import Keys\n",
    "from selenium.webdriver.support import expected_conditions as EC\n",
    "from selenium.webdriver.common.by import By\n",
    "from selenium.webdriver.support.wait import WebDriverWait\n",
    "from selenium.webdriver.chrome.service import Service\n",
    "from webdriver_manager.chrome import ChromeDriverManager"
   ]
  },
  {
   "cell_type": "code",
   "execution_count": 2,
   "id": "08dae76d",
   "metadata": {},
   "outputs": [],
   "source": [
    "#other \n",
    "\n",
    "import os\n",
    "import wget"
   ]
  },
  {
   "cell_type": "code",
   "execution_count": 3,
   "id": "a4d6294c",
   "metadata": {},
   "outputs": [],
   "source": [
    "#Log in into Instagram, but first\n",
    "#Connect webdriver to the notebook\n",
    "\n",
    "service = Service(r'C:\\Users\\LENOVO\\Desktop\\Projects\\Web Scraping\\chromedriver.exe')\n",
    "driver = webdriver.Chrome(service = service)\n",
    "driver.get(r'https://www.instagram.com/')"
   ]
  },
  {
   "cell_type": "code",
   "execution_count": 4,
   "id": "cb9cb7fb",
   "metadata": {},
   "outputs": [],
   "source": [
    "#Target the teo input fields needed to login\n",
    "\n",
    "username = WebDriverWait(driver, 10).until(EC.element_to_be_clickable((By.CSS_SELECTOR, \"input[name='username']\")))\n",
    "password = WebDriverWait(driver, 10).until(EC.element_to_be_clickable((By.CSS_SELECTOR, \"input[name='password']\")))\n",
    "\n",
    "#ensure the fields are clear\n",
    "username.clear()\n",
    "password.clear()\n",
    "\n",
    "#Give the details for login\n",
    "\n",
    "username.send_keys(\"xxxxx\")\n",
    "password.send_keys(\"xxxxx\")\n",
    "\n",
    "#Click the login button\n",
    "log_in = WebDriverWait(driver, 10).until(EC.element_to_be_clickable((By.CSS_SELECTOR, \"button[type='submit']\"))).click()"
   ]
  },
  {
   "cell_type": "code",
   "execution_count": 5,
   "id": "6655a117",
   "metadata": {},
   "outputs": [],
   "source": [
    "#Click on not now to avoid saving login details\n",
    "\n",
    "not_now = WebDriverWait(driver, 10).until(EC.element_to_be_clickable((By.XPATH, \"//button[contains(text(), 'Not Now')]\"))).click()\n",
    "\n",
    "#Click on not now again to turn off notifications\n",
    "not_now2 = WebDriverWait(driver, 10).until(EC.element_to_be_clickable((By.XPATH, \"//button[contains(text(), 'Not Now')]\"))).click()"
   ]
  },
  {
   "cell_type": "code",
   "execution_count": 6,
   "id": "c2b4eaf0",
   "metadata": {},
   "outputs": [],
   "source": [
    "#Search data using #\n",
    "\n",
    "searchbox = WebDriverWait(driver, 10).until(EC.element_to_be_clickable((By.XPATH, \"//input[@placeholder = 'Search']\")))\n",
    "\n",
    "searchbox.clear()\n",
    "keyword = \"#cat\"\n",
    "searchbox.send_keys(keyword)"
   ]
  },
  {
   "cell_type": "code",
   "execution_count": 7,
   "id": "9edba220",
   "metadata": {},
   "outputs": [],
   "source": [
    "#Click Enter to pick the options that comes up after a search\n",
    "\n",
    "searchbox.send_keys(Keys.ENTER)"
   ]
  },
  {
   "cell_type": "code",
   "execution_count": 8,
   "id": "99838f25",
   "metadata": {},
   "outputs": [],
   "source": [
    "searchbox.send_keys(Keys.ENTER)"
   ]
  },
  {
   "cell_type": "code",
   "execution_count": 12,
   "id": "16971b12",
   "metadata": {},
   "outputs": [],
   "source": [
    "#Scroll through the pages in the results after the search\n",
    "\n",
    "driver.execute_script(\"window.scrollTo(0, 4000);\")\n",
    "\n",
    "images = driver.find_elements(By.TAG_NAME, 'img')\n",
    "images = [image.get_attribute('src') for image in images]"
   ]
  },
  {
   "cell_type": "code",
   "execution_count": 13,
   "id": "ca80e905",
   "metadata": {},
   "outputs": [
    {
     "data": {
      "text/plain": [
       "['https://instagram.fnbo10-1.fna.fbcdn.net/v/t51.2885-15/300142826_562235405587341_8348835919192345836_n.jpg?stp=dst-jpg_e35&cb=2d435ae8-d7f9aae8&_nc_ht=instagram.fnbo10-1.fna.fbcdn.net&_nc_cat=109&_nc_ohc=43QfnhlRelgAX_fyz8k&tn=qhbAxCVjexVsHjZ3&edm=AGyKU4gBAAAA&ccb=7-5&ig_cache_key=MjkwOTU1MDAxMjM2MzgyNjI5MA%3D%3D.2-ccb7-5&oh=00_AT-dCOedE9Arw89-ytq6RCu7lHgRwDiTudgJVzcw6Wu4wA&oe=630A55D3&_nc_sid=4cb768',\n",
       " 'https://instagram.fnbo10-1.fna.fbcdn.net/v/t51.2885-15/300142826_562235405587341_8348835919192345836_n.jpg?stp=dst-jpg_e35&cb=2d435ae8-d7f9aae8&_nc_ht=instagram.fnbo10-1.fna.fbcdn.net&_nc_cat=109&_nc_ohc=43QfnhlRelgAX_fyz8k&tn=qhbAxCVjexVsHjZ3&edm=AGyKU4gBAAAA&ccb=7-5&ig_cache_key=MjkwOTU1MDAxMjM2MzgyNjI5MA%3D%3D.2-ccb7-5&oh=00_AT-dCOedE9Arw89-ytq6RCu7lHgRwDiTudgJVzcw6Wu4wA&oe=630A55D3&_nc_sid=4cb768',\n",
       " 'https://instagram.fnbo10-1.fna.fbcdn.net/v/t51.2885-15/300175098_1134607617457754_240300907397949195_n.jpg?stp=dst-jpg_e35&cb=2d435ae8-d7f9aae8&_nc_ht=instagram.fnbo10-1.fna.fbcdn.net&_nc_cat=1&_nc_ohc=Xt_l8yMuSqEAX_uUm_F&edm=AGyKU4gBAAAA&ccb=7-5&ig_cache_key=MjkwOTY2OTM5OTMxNzY2NTExOQ%3D%3D.2-ccb7-5&oh=00_AT-X7SMA5Xyvk_bzYAt42n9hILyq6NS60XuA-k7GCfE1FQ&oe=6308E889&_nc_sid=4cb768',\n",
       " 'https://instagram.fnbo10-1.fna.fbcdn.net/v/t51.2885-15/300398651_480713463467577_7603965158230882645_n.webp?stp=dst-jpg_e35&cb=2d435ae8-d7f9aae8&_nc_ht=instagram.fnbo10-1.fna.fbcdn.net&_nc_cat=109&_nc_ohc=7WAJ5ey_jr4AX-HCrfr&edm=AGyKU4gBAAAA&ccb=7-5&ig_cache_key=MjkwOTcxMzQxNTA3MzQ5NDAyNg%3D%3D.2-ccb7-5&oh=00_AT9xIeTmsmsSl6nsSMhgmg_aoFAfw98HYf6-Ml8cMVgp4g&oe=630988C0&_nc_sid=4cb768',\n",
       " 'https://instagram.fnbo9-1.fna.fbcdn.net/v/t51.2885-15/300636303_5082970921831615_115247938749867595_n.jpg?stp=dst-jpg_e35&cb=2d435ae8-d7f9aae8&_nc_ht=instagram.fnbo9-1.fna.fbcdn.net&_nc_cat=107&_nc_ohc=NXSPIvAyo6UAX_SbRL7&edm=AGyKU4gBAAAA&ccb=7-5&ig_cache_key=MjkwOTY2ODM5OTQ3MDkzNTc1Nw%3D%3D.2-ccb7-5&oh=00_AT8xbv7SXAeJHknoFceaBX-Kf23eLrnVpRg8bzwvYudlxw&oe=6308BB38&_nc_sid=4cb768',\n",
       " 'https://instagram.fnbo10-1.fna.fbcdn.net/v/t51.2885-15/300651126_607288537434433_4315109065922273519_n.jpg?stp=dst-jpg_e35&cb=2d435ae8-d7f9aae8&_nc_ht=instagram.fnbo10-1.fna.fbcdn.net&_nc_cat=101&_nc_ohc=lerWMzD-4qkAX8Tb7EU&tn=qhbAxCVjexVsHjZ3&edm=AGyKU4gBAAAA&ccb=7-5&ig_cache_key=MjkwOTQ0NjczOTkzNDAwMjAxNQ%3D%3D.2-ccb7-5&oh=00_AT9tnHWH-hDuy8etmlCNn-04iggFJJrDCm2VP8VBHCP-DA&oe=630956C1&_nc_sid=4cb768',\n",
       " 'https://instagram.fnbo10-1.fna.fbcdn.net/v/t51.2885-15/300563663_1423582581495102_6750990584475874895_n.jpg?stp=dst-jpg_e35&cb=2d435ae8-d7f9aae8&_nc_ht=instagram.fnbo10-1.fna.fbcdn.net&_nc_cat=106&_nc_ohc=cyrMQPAO37wAX8UZMK9&edm=AGyKU4gBAAAA&ccb=7-5&ig_cache_key=MjkwOTc4Njc4NTYxNTE5Nzc0MQ%3D%3D.2-ccb7-5&oh=00_AT-AntCBXMLO83I34WeZbKvjZan4nM1Mxbc0ofVG_-fJlA&oe=63099DD7&_nc_sid=4cb768',\n",
       " 'https://instagram.fnbo9-1.fna.fbcdn.net/v/t51.2885-15/300530852_1213777959459557_1031095696774092030_n.jpg?stp=dst-jpg_e35&cb=2d435ae8-d7f9aae8&_nc_ht=instagram.fnbo9-1.fna.fbcdn.net&_nc_cat=105&_nc_ohc=fkssnf3VH_8AX8214UQ&edm=AGyKU4gBAAAA&ccb=7-5&ig_cache_key=MjkwOTY0MjQxNjYzOTIyNTU2NQ%3D%3D.2-ccb7-5&oh=00_AT8t60mAnU1QpBisiv3K7caFZI6C-RhfimY2gurjpwjCWw&oe=630A3F4A&_nc_sid=4cb768',\n",
       " 'https://instagram.fnbo9-1.fna.fbcdn.net/v/t51.2885-15/300295680_557577342775517_2351518034889208470_n.webp?stp=dst-jpg_e35&cb=2d435ae8-d7f9aae8&_nc_ht=instagram.fnbo9-1.fna.fbcdn.net&_nc_cat=105&_nc_ohc=RHKC6FnXA40AX--4ymC&edm=AGyKU4gBAAAA&ccb=7-5&ig_cache_key=MjkwOTY1NjE3NTg0NDQ2NDAwMw%3D%3D.2-ccb7-5&oh=00_AT9Wqyd3ify-iyj8CGu61l_-9FFw8SJlRh5Xyc4tsJ4qqQ&oe=6308F232&_nc_sid=4cb768',\n",
       " 'https://instagram.fnbo9-1.fna.fbcdn.net/v/t51.2885-15/300311656_2033482663503041_6420299897991578685_n.jpg?stp=dst-jpg_e35&cb=2d435ae8-d7f9aae8&_nc_ht=instagram.fnbo9-1.fna.fbcdn.net&_nc_cat=105&_nc_ohc=7x5rpBJQNpcAX-hHrTm&tn=qhbAxCVjexVsHjZ3&edm=AGyKU4gBAAAA&ccb=7-5&ig_cache_key=MjkwOTYwOTc0MjA2MjQ4MDkxOA%3D%3D.2-ccb7-5&oh=00_AT-bqVe9uF68zdNRPDh6BvGhAlFDVkgZkg5Xefdp4_brbA&oe=63093948&_nc_sid=4cb768',\n",
       " 'https://instagram.fnbo9-1.fna.fbcdn.net/v/t51.2885-15/300232947_932059771044007_2607564415580662534_n.webp?stp=dst-jpg_e35&cb=2d435ae8-d7f9aae8&_nc_ht=instagram.fnbo9-1.fna.fbcdn.net&_nc_cat=107&_nc_ohc=427hW5yeReQAX_boZ2M&tn=qhbAxCVjexVsHjZ3&edm=AGyKU4gBAAAA&ccb=7-5&ig_cache_key=MjkwOTg4NjkwMDA1MTU3Nzk4NQ%3D%3D.2-ccb7-5&oh=00_AT_AvLEyiGVEKak3HZP6O-Y2CgQ3CZEnpasa33YGn1NchQ&oe=6309A707&_nc_sid=4cb768',\n",
       " 'https://instagram.fnbo9-1.fna.fbcdn.net/v/t51.2885-15/300204983_637678254209832_7633685744649281569_n.jpg?stp=dst-jpg_e35&cb=2d435ae8-d7f9aae8&_nc_ht=instagram.fnbo9-1.fna.fbcdn.net&_nc_cat=100&_nc_ohc=zTzpQTEZ4UIAX-y83yO&edm=AGyKU4gBAAAA&ccb=7-5&ig_cache_key=MjkwOTg4NjY4ODc0MzEzNDcyMQ%3D%3D.2-ccb7-5&oh=00_AT-YzIWBFC8CTFf1U7QbHtHHldqcbGqNJc8GNvnMTM74SA&oe=6309EF83&_nc_sid=4cb768',\n",
       " 'https://instagram.fnbo10-1.fna.fbcdn.net/v/t51.2885-15/300812691_1265521124243785_3973946982755544606_n.webp?stp=dst-jpg_e35&cb=2d435ae8-d7f9aae8&_nc_ht=instagram.fnbo10-1.fna.fbcdn.net&_nc_cat=101&_nc_ohc=Sn8hMcW4m28AX9knLeh&edm=AGyKU4gBAAAA&ccb=7-5&ig_cache_key=MjkwOTg4NjczNDcwNDcxNDQ1MA%3D%3D.2-ccb7-5&oh=00_AT9LH_UwqRr87CU8eEcC-mTtKmuq8xXI7R539O9zPNXixA&oe=6308D3AE&_nc_sid=4cb768',\n",
       " 'https://instagram.fnbo9-1.fna.fbcdn.net/v/t51.2885-15/300507528_576722930826775_6281751955345625279_n.webp?stp=dst-jpg_e35&cb=2d435ae8-d7f9aae8&_nc_ht=instagram.fnbo9-1.fna.fbcdn.net&_nc_cat=107&_nc_ohc=8diID5JInpkAX-qReFO&edm=AGyKU4gBAAAA&ccb=7-5&ig_cache_key=MjkwOTg4Njg5NjEzNDY5MjA1OA%3D%3D.2-ccb7-5&oh=00_AT8JoTgoCUAJfNxKgCpzRB_yDemkdP2GFBI-wm0vw2gCmA&oe=6308733F&_nc_sid=4cb768',\n",
       " 'https://instagram.fnbo10-1.fna.fbcdn.net/v/t51.2885-15/300365219_1837611236587357_1190681729298119403_n.webp?stp=dst-jpg_e35&cb=2d435ae8-d7f9aae8&_nc_ht=instagram.fnbo10-1.fna.fbcdn.net&_nc_cat=101&_nc_ohc=A89t_zOqmBgAX873B9-&tn=qhbAxCVjexVsHjZ3&edm=AGyKU4gBAAAA&ccb=7-5&ig_cache_key=MjkwOTg4Njg0MjY2NTEzNjI3OA%3D%3D.2-ccb7-5&oh=00_AT-zrMuLw6wsujpcKeKc9bHSMDk4NLGVNpwxANztJ4mZkw&oe=63096EBC&_nc_sid=4cb768',\n",
       " 'https://instagram.fnbo9-1.fna.fbcdn.net/v/t51.2885-15/300560155_411330370982007_6753853753517613971_n.jpg?stp=dst-jpg_e35&cb=2d435ae8-d7f9aae8&_nc_ht=instagram.fnbo9-1.fna.fbcdn.net&_nc_cat=103&_nc_ohc=OIxm-uI66NgAX_bJC8J&edm=AGyKU4gBAAAA&ccb=7-5&ig_cache_key=MjkwOTg4Njc2OTYzNTEwODEyOA%3D%3D.2-ccb7-5&oh=00_AT_Y_OEn2hrvdDRGkx-jJN8Wig5AFXYwtstnhCIfdq91lQ&oe=630A07B7&_nc_sid=4cb768',\n",
       " 'https://instagram.fnbo9-1.fna.fbcdn.net/v/t51.2885-15/300183622_453773230004417_4638665376195423547_n.jpg?stp=dst-jpg_e35&cb=2d435ae8-d7f9aae8&_nc_ht=instagram.fnbo9-1.fna.fbcdn.net&_nc_cat=105&_nc_ohc=sHvWkQ2a4TUAX-IFKfB&edm=AGyKU4gBAAAA&ccb=7-5&ig_cache_key=MjkwOTg4NjY0Nzc5OTYxNjg0MQ%3D%3D.2-ccb7-5&oh=00_AT-xJcEGMZ40FzZnqHarde1_g76E4yanSKeLcB5U6POW5g&oe=6309B7C1&_nc_sid=4cb768',\n",
       " 'https://instagram.fnbo9-1.fna.fbcdn.net/v/t51.2885-15/300863774_159735706642515_1860773682009192246_n.jpg?stp=dst-jpg_e35&cb=2d435ae8-d7f9aae8&_nc_ht=instagram.fnbo9-1.fna.fbcdn.net&_nc_cat=103&_nc_ohc=i4N364r0GBUAX94cBPR&tn=qhbAxCVjexVsHjZ3&edm=AGyKU4gBAAAA&ccb=7-5&ig_cache_key=MjkwOTg4Njg4NTczMzEwNzI3Ng%3D%3D.2-ccb7-5&oh=00_AT-IywfmTQnNmXDVtntObQC5RtzUluKPvcqmwAuxWRyMFA&oe=630930DA&_nc_sid=4cb768',\n",
       " 'https://instagram.fnbo10-1.fna.fbcdn.net/v/t51.2885-15/300645201_1492379691224003_6136766772310511263_n.jpg?stp=dst-jpg_e35&cb=2d435ae8-d7f9aae8&_nc_ht=instagram.fnbo10-1.fna.fbcdn.net&_nc_cat=111&_nc_ohc=bHeO6D6qFhgAX-XstoU&edm=AGyKU4gBAAAA&ccb=7-5&ig_cache_key=MjkwOTg4Njg4MjI1MDg5MDMwNA%3D%3D.2-ccb7-5&oh=00_AT_kvkmq_1xWhwo9efwpUMKAXMlBKIxGFDdyZIZK9U2-fA&oe=630A5B46&_nc_sid=4cb768',\n",
       " 'https://instagram.fnbo9-1.fna.fbcdn.net/v/t51.2885-15/300953346_595939395523515_1666253361973821753_n.jpg?stp=dst-jpg_e35&cb=2d435ae8-d7f9aae8&_nc_ht=instagram.fnbo9-1.fna.fbcdn.net&_nc_cat=103&_nc_ohc=nh9BgMRpKgsAX-9UhBZ&edm=AGyKU4gBAAAA&ccb=7-5&ig_cache_key=MjkwOTg4Njc4NzU4NzA4MDk4MQ%3D%3D.2-ccb7-5&oh=00_AT9kPKiW6v7f1j71CmJaJZ6PCKmwFX9v12KaMjz1lZ3o-A&oe=6309516D&_nc_sid=4cb768',\n",
       " 'https://instagram.fnbo9-1.fna.fbcdn.net/v/t51.2885-15/300646406_575615877580075_3273773479334004952_n.jpg?stp=dst-jpg_e35&cb=2d435ae8-d7f9aae8&_nc_ht=instagram.fnbo9-1.fna.fbcdn.net&_nc_cat=107&_nc_ohc=nl3bgDeXvDoAX_m83fA&tn=qhbAxCVjexVsHjZ3&edm=AGyKU4gBAAAA&ccb=7-5&ig_cache_key=MjkwOTg4NjU4NDIzNzQ0MjQ4OA%3D%3D.2-ccb7-5&oh=00_AT8qZ_kabCLzp0jOjRBBs7vWIVzRZACg4U-2EeGYs7I1zQ&oe=6309CAF7&_nc_sid=4cb768',\n",
       " 'https://instagram.fnbo9-1.fna.fbcdn.net/v/t51.2885-15/300411312_1066690473984064_8043841895043500154_n.webp?stp=dst-jpg_e35&cb=2d435ae8-d7f9aae8&_nc_ht=instagram.fnbo9-1.fna.fbcdn.net&_nc_cat=104&_nc_ohc=_c6JxxrK0T8AX8ctzYt&edm=AGyKU4gBAAAA&ccb=7-5&ig_cache_key=MjkwOTg4NjcyMDgzNzUyNTQ0MA%3D%3D.2-ccb7-5&oh=00_AT8mI6KWlRHiqkMDgWtgYK-oIon1p3AZeLriz8rCUz5Now&oe=63089968&_nc_sid=4cb768',\n",
       " 'https://instagram.fnbo9-1.fna.fbcdn.net/v/t51.2885-15/300061746_1099219257676073_6712750208675902765_n.jpg?stp=dst-jpg_e35&cb=2d435ae8-d7f9aae8&_nc_ht=instagram.fnbo9-1.fna.fbcdn.net&_nc_cat=105&_nc_ohc=MsX2m6EasF8AX_L7v8N&edm=AGyKU4gBAAAA&ccb=7-5&ig_cache_key=MjkwOTg4NjQxMTYyNjUxMDc4NQ%3D%3D.2-ccb7-5&oh=00_AT9YqhJBeN-rmGbLiCnW2BqB1VI7lebD-3_pspLlGDEWzw&oe=630A5834&_nc_sid=4cb768',\n",
       " 'https://instagram.fnbo9-1.fna.fbcdn.net/v/t51.2885-15/300390371_469989565138512_2003143241227259526_n.webp?stp=dst-jpg_e35&cb=2d435ae8-d7f9aae8&_nc_ht=instagram.fnbo9-1.fna.fbcdn.net&_nc_cat=100&_nc_ohc=kzwH_HBENmIAX8QOnsE&edm=AGyKU4gBAAAA&ccb=7-5&ig_cache_key=MjkwOTg4Njg2NTAxMjQ5NTk0MA%3D%3D.2-ccb7-5&oh=00_AT87D0fL4AZyhzWmxC8RHLv5J0saH36E5QtOFQemvqhWHw&oe=630A45E8&_nc_sid=4cb768',\n",
       " 'https://instagram.fnbo10-1.fna.fbcdn.net/v/t51.2885-15/300437181_2162677473893793_9143961358424740837_n.jpg?stp=dst-jpg_e35&cb=2d435ae8-d7f9aae8&_nc_ht=instagram.fnbo10-1.fna.fbcdn.net&_nc_cat=109&_nc_ohc=hqgs4Bq0_PkAX9T3_Wf&edm=AGyKU4gBAAAA&ccb=7-5&ig_cache_key=MjkwOTg4NjcwNDY4MTg3Mzk4OA%3D%3D.2-ccb7-5&oh=00_AT8sH-McjnqfVbzJwemmzn76DBB3VzR1p5Pm66is0BoNYw&oe=6309A82C&_nc_sid=4cb768',\n",
       " 'https://instagram.fnbo10-1.fna.fbcdn.net/v/t51.2885-15/300838865_452045080182158_3247855105521232698_n.jpg?stp=dst-jpg_e35&cb=2d435ae8-d7f9aae8&_nc_ht=instagram.fnbo10-1.fna.fbcdn.net&_nc_cat=102&_nc_ohc=gvMvgPE7QLcAX81GJqw&tn=qhbAxCVjexVsHjZ3&edm=AGyKU4gBAAAA&ccb=7-5&ig_cache_key=MjkwOTg4NjcwODkzNTY1Nzc0Mg%3D%3D.2-ccb7-5&oh=00_AT8Bk6S4vG7lV5U2KbiZaqP5jSUC7Xas52DZNDDn-HFYCw&oe=63088DAD&_nc_sid=4cb768',\n",
       " 'https://instagram.fnbo9-1.fna.fbcdn.net/v/t51.2885-15/300176635_1059881864664604_4596356007158850205_n.jpg?stp=dst-jpg_e35&cb=2d435ae8-d7f9aae8&_nc_ht=instagram.fnbo9-1.fna.fbcdn.net&_nc_cat=104&_nc_ohc=iHwev5W-qhAAX9gdSse&edm=AGyKU4gBAAAA&ccb=7-5&ig_cache_key=MjkwOTg4NjQ5NDkwNzY5MTQyMQ%3D%3D.2-ccb7-5&oh=00_AT80fjM0Jqma9wUpmOe1LLnuAjrMvjpwHwJfKLjnJMiA4A&oe=6309BDCC&_nc_sid=4cb768',\n",
       " 'https://instagram.fnbo10-1.fna.fbcdn.net/v/t51.2885-15/300426453_758368388708385_5746853737499027709_n.jpg?stp=dst-jpg_e35&cb=2d435ae8-d7f9aae8&_nc_ht=instagram.fnbo10-1.fna.fbcdn.net&_nc_cat=109&_nc_ohc=s2ayZegpv2oAX8ksHqV&edm=AGyKU4gBAAAA&ccb=7-5&ig_cache_key=MjkwOTg4Njc1MDA4MDE0Njc2Ng%3D%3D.2-ccb7-5&oh=00_AT_ug-g337XG24VcQXeitX8CaGBk_MEyhoHLwL637_CK6g&oe=6308D72F&_nc_sid=4cb768',\n",
       " 'https://instagram.fnbo9-1.fna.fbcdn.net/v/t51.2885-15/300019218_106116745480042_4117983034165046137_n.webp?stp=dst-jpg_e35&cb=2d435ae8-d7f9aae8&_nc_ht=instagram.fnbo9-1.fna.fbcdn.net&_nc_cat=110&_nc_ohc=v5spAeH1EvIAX8tYP2y&edm=AGyKU4gBAAAA&ccb=7-5&ig_cache_key=MjkwOTg4Njg4MzMyNTI1MTkyMg%3D%3D.2-ccb7-5&oh=00_AT9MWfuBhi1_7XttPxuG25tMW_W8js2bFfLxicR1svAGpg&oe=630A050D&_nc_sid=4cb768',\n",
       " 'https://instagram.fnbo10-1.fna.fbcdn.net/v/t51.2885-15/300565868_460058209122008_698545005030680720_n.jpg?stp=dst-jpg_e35&cb=2d435ae8-d7f9aae8&_nc_ht=instagram.fnbo10-1.fna.fbcdn.net&_nc_cat=108&_nc_ohc=k5_ZRIH7d9kAX9w7Sml&edm=AGyKU4gBAAAA&ccb=7-5&ig_cache_key=MjkwOTg4NjU3MTUxMTg4Njc4NQ%3D%3D.2-ccb7-5&oh=00_AT8-zK3F-GDdTQys0xzYkcJiIJuc6xeV9iWyjWcLAOZo8Q&oe=6308DE89&_nc_sid=4cb768',\n",
       " 'https://instagram.fnbo10-1.fna.fbcdn.net/v/t51.2885-15/300849114_607601304304386_6880639554479360747_n.webp?stp=dst-jpg_e35&cb=2d435ae8-d7f9aae8&_nc_ht=instagram.fnbo10-1.fna.fbcdn.net&_nc_cat=106&_nc_ohc=zkvc-BaQhE4AX8nU0AF&edm=AGyKU4gBAAAA&ccb=7-5&ig_cache_key=MjkwOTg4NjY5NzMzOTUxNTk4OQ%3D%3D.2-ccb7-5&oh=00_AT-19mS16CuQiv2eBw7FgzQI-sL78gLZVVV45F0wHt6JUA&oe=630A3B92&_nc_sid=4cb768',\n",
       " 'https://instagram.fnbo9-1.fna.fbcdn.net/v/t51.2885-15/300152519_1246306049503491_8278784044011359506_n.webp?stp=dst-jpg_e35&cb=2d435ae8-d7f9aae8&_nc_ht=instagram.fnbo9-1.fna.fbcdn.net&_nc_cat=103&_nc_ohc=CjK35-UB4xEAX9MYMRG&edm=AGyKU4gBAAAA&ccb=7-5&ig_cache_key=MjkwOTg4Njg5NzI5MjQzMzYyNA%3D%3D.2-ccb7-5&oh=00_AT-EZvyzqIlDgHXnKaubi6O3Ooas1BjuKflbogJ8aYdViA&oe=630A03B6&_nc_sid=4cb768',\n",
       " 'https://instagram.fnbo9-1.fna.fbcdn.net/v/t51.2885-15/300207388_814564323241339_4898629256377062380_n.jpg?stp=dst-jpg_e35&cb=2d435ae8-d7f9aae8&_nc_ht=instagram.fnbo9-1.fna.fbcdn.net&_nc_cat=107&_nc_ohc=d9_uxmKdZOQAX9Ud8KP&edm=AGyKU4gBAAAA&ccb=7-5&ig_cache_key=MjkwOTg4Njc5NzAxNDg1MjkyNw%3D%3D.2-ccb7-5&oh=00_AT8jzo85QPLdqYQ2C0c0rKGc9gPLGsoO9dhR61SeQp0OaA&oe=630A40D0&_nc_sid=4cb768',\n",
       " 'https://instagram.fnbo9-1.fna.fbcdn.net/v/t51.2885-15/300506267_443072277855463_5878047291122406190_n.jpg?stp=dst-jpg_e35&cb=2d435ae8-d7f9aae8&_nc_ht=instagram.fnbo9-1.fna.fbcdn.net&_nc_cat=107&_nc_ohc=FA1ux1pj2iQAX-zJzmE&edm=AGyKU4gBAAAA&ccb=7-5&ig_cache_key=MjkwOTg4NjYxODI3ODMwNTM4Mg%3D%3D.2-ccb7-5&oh=00_AT8uT-mvSepkLYtghEhwSutjD86rMpJx0DNRCCBAGzQqXg&oe=630896E1&_nc_sid=4cb768',\n",
       " 'https://instagram.fnbo10-1.fna.fbcdn.net/v/t51.2885-15/300496570_564384895476081_4971123252128151494_n.webp?stp=dst-jpg_e35&cb=2d435ae8-d7f9aae8&_nc_ht=instagram.fnbo10-1.fna.fbcdn.net&_nc_cat=109&_nc_ohc=c-9CieVr-KMAX9LO7tA&edm=AGyKU4gBAAAA&ccb=7-5&ig_cache_key=MjkwOTg4NjU3MjkyMjM5MTc5MA%3D%3D.2-ccb7-5&oh=00_AT9WmIARMn2ccgEKMno6wEINLK6FdORNWzSj5o1cVNIuEQ&oe=6309CA41&_nc_sid=4cb768',\n",
       " 'https://instagram.fnbo10-1.fna.fbcdn.net/v/t51.2885-15/300430671_388149626614249_3156560310535027297_n.jpg?stp=dst-jpg_e35&cb=2d435ae8-d7f9aae8&_nc_ht=instagram.fnbo10-1.fna.fbcdn.net&_nc_cat=101&_nc_ohc=cedZ_ZZezg4AX-68asN&edm=AGyKU4gBAAAA&ccb=7-5&ig_cache_key=MjkwOTg4Njg2NzkyMzA4ODQ5OA%3D%3D.2-ccb7-5&oh=00_AT_H998hPV1Td1aMa1IR0y7wYwGoeLhtUyXEvi7pBMHzrw&oe=63090E3C&_nc_sid=4cb768',\n",
       " 'https://instagram.fnbo10-1.fna.fbcdn.net/v/t51.2885-15/300266762_368491718807180_1660967149988526013_n.webp?stp=dst-jpg_e35&cb=2d435ae8-d7f9aae8&_nc_ht=instagram.fnbo10-1.fna.fbcdn.net&_nc_cat=108&_nc_ohc=W04dH9avwwUAX-q0z0i&edm=AGyKU4gBAAAA&ccb=7-5&ig_cache_key=MjkwOTg4NjA4MjcwNjEwMDQ3Ng%3D%3D.2-ccb7-5&oh=00_AT8OalHb19WQeKzCGghLed8hVAA3K7oJuV93nQ0NlY2s5w&oe=6309DB1E&_nc_sid=4cb768',\n",
       " 'https://instagram.fnbo9-1.fna.fbcdn.net/v/t51.2885-15/300671911_595297895593443_1709307486908548431_n.webp?stp=dst-jpg_e35&cb=2d435ae8-d7f9aae8&_nc_ht=instagram.fnbo9-1.fna.fbcdn.net&_nc_cat=103&_nc_ohc=bRj4yDm3bloAX8xFmob&edm=AGyKU4gBAAAA&ccb=7-5&ig_cache_key=MjkwOTg4NTkyMTUyMTg4MDk0Ng%3D%3D.2-ccb7-5&oh=00_AT_HCIhXHxXXaMpZ0zIhkk0YKLqK3TDQYoYxNO7F59c5ww&oe=6309F68A&_nc_sid=4cb768',\n",
       " 'https://instagram.fnbo9-1.fna.fbcdn.net/v/t51.2885-15/300592360_3226134764310091_6047997131148367607_n.jpg?stp=dst-jpg_e35&cb=2d435ae8-d7f9aae8&_nc_ht=instagram.fnbo9-1.fna.fbcdn.net&_nc_cat=107&_nc_ohc=sCjxEv5CpScAX9_tgbY&edm=AGyKU4gBAAAA&ccb=7-5&ig_cache_key=MjkwOTg3MjA5NTMxMzgzOTU0NA%3D%3D.2-ccb7-5&oh=00_AT9eFLWWlV_Y1N8y069ArV69RLdS-QACoU89GqgCoKi9ng&oe=6309AA1F&_nc_sid=4cb768',\n",
       " 'https://instagram.fnbo9-1.fna.fbcdn.net/v/t51.2885-15/299502632_826973255376946_3219265358897773202_n.jpg?stp=dst-jpg_e35&cb=2d435ae8-d7f9aae8&_nc_ht=instagram.fnbo9-1.fna.fbcdn.net&_nc_cat=110&_nc_ohc=zUYn8F9hiUkAX9QODvy&edm=AGyKU4gBAAAA&ccb=7-5&ig_cache_key=MjkwNTkxNDYxOTkwNzg5MTE2OA%3D%3D.2-ccb7-5&oh=00_AT_76LIF7r-jJE7M8Io6BZu63H3GYwu7y2uPwr6qwl5h7A&oe=630A04A5&_nc_sid=4cb768',\n",
       " 'https://scontent.cdninstagram.com/v/t51.2885-19/11351558_1634013356855730_1422557490_a.jpg?_nc_ht=scontent.cdninstagram.com&_nc_cat=106&_nc_ohc=zMRwX6ZQ16wAX_-gcXn&edm=APs17CUBAAAA&ccb=7-5&oh=00_AT-PUtb23lLfOCKBDu1STFDCleBB5zEsyDF1f0oFs7Bvqw&oe=6308B5E7&_nc_sid=978cb9']"
      ]
     },
     "execution_count": 13,
     "metadata": {},
     "output_type": "execute_result"
    }
   ],
   "source": [
    "images"
   ]
  },
  {
   "cell_type": "code",
   "execution_count": 15,
   "id": "a1d89432",
   "metadata": {},
   "outputs": [
    {
     "data": {
      "text/plain": [
       "'C:\\\\Users\\\\LENOVO\\\\Desktop\\\\Projects\\\\Web Scraping\\\\cats'"
      ]
     },
     "execution_count": 15,
     "metadata": {},
     "output_type": "execute_result"
    }
   ],
   "source": [
    "#Save the images in the pc\n",
    "#Create the folder where the images will be saved\n",
    "\n",
    "path = os.getcwd()\n",
    "path = os.path.join(path, keyword[1:] + 's')\n",
    "\n",
    "os.mkdir(path)\n",
    "path"
   ]
  },
  {
   "cell_type": "code",
   "execution_count": 16,
   "id": "01952eae",
   "metadata": {},
   "outputs": [],
   "source": [
    "#The actual downloading of the images\n",
    "\n",
    "counter = 0\n",
    "for image in images:\n",
    "    save_as = os.path.join(path, keyword[1:] + str(counter) + '.jpg')\n",
    "    wget.download(image, save_as)\n",
    "    counter += 1"
   ]
  },
  {
   "cell_type": "code",
   "execution_count": null,
   "id": "78e6e016",
   "metadata": {},
   "outputs": [],
   "source": []
  }
 ],
 "metadata": {
  "kernelspec": {
   "display_name": "Python 3 (ipykernel)",
   "language": "python",
   "name": "python3"
  },
  "language_info": {
   "codemirror_mode": {
    "name": "ipython",
    "version": 3
   },
   "file_extension": ".py",
   "mimetype": "text/x-python",
   "name": "python",
   "nbconvert_exporter": "python",
   "pygments_lexer": "ipython3",
   "version": "3.9.13"
  }
 },
 "nbformat": 4,
 "nbformat_minor": 5
}
